{
 "cells": [
  {
   "cell_type": "markdown",
   "metadata": {},
   "source": [
    "# Data Cleaning with Pandas and Numpy"
   ]
  },
  {
   "cell_type": "code",
   "execution_count": 1,
   "metadata": {},
   "outputs": [],
   "source": [
    "# Dependecies\n",
    "import pandas as pd\n",
    "import numpy as np"
   ]
  },
  {
   "cell_type": "code",
   "execution_count": 7,
   "metadata": {},
   "outputs": [
    {
     "data": {
      "text/html": [
       "<div>\n",
       "<style scoped>\n",
       "    .dataframe tbody tr th:only-of-type {\n",
       "        vertical-align: middle;\n",
       "    }\n",
       "\n",
       "    .dataframe tbody tr th {\n",
       "        vertical-align: top;\n",
       "    }\n",
       "\n",
       "    .dataframe thead th {\n",
       "        text-align: right;\n",
       "    }\n",
       "</style>\n",
       "<table border=\"1\" class=\"dataframe\">\n",
       "  <thead>\n",
       "    <tr style=\"text-align: right;\">\n",
       "      <th></th>\n",
       "      <th>genres</th>\n",
       "      <th>acousticness</th>\n",
       "      <th>danceability</th>\n",
       "      <th>duration_ms</th>\n",
       "      <th>energy</th>\n",
       "      <th>instrumentalness</th>\n",
       "      <th>liveness</th>\n",
       "      <th>loudness</th>\n",
       "      <th>speechiness</th>\n",
       "      <th>tempo</th>\n",
       "      <th>valence</th>\n",
       "      <th>popularity</th>\n",
       "      <th>key</th>\n",
       "      <th>mode</th>\n",
       "    </tr>\n",
       "  </thead>\n",
       "  <tbody>\n",
       "    <tr>\n",
       "      <th>0</th>\n",
       "      <td>21st century classical</td>\n",
       "      <td>0.754600</td>\n",
       "      <td>0.284100</td>\n",
       "      <td>3.525932e+05</td>\n",
       "      <td>0.159580</td>\n",
       "      <td>0.484374</td>\n",
       "      <td>0.168580</td>\n",
       "      <td>-22.153400</td>\n",
       "      <td>0.062060</td>\n",
       "      <td>91.351000</td>\n",
       "      <td>0.143380</td>\n",
       "      <td>6.600000</td>\n",
       "      <td>4</td>\n",
       "      <td>1</td>\n",
       "    </tr>\n",
       "    <tr>\n",
       "      <th>1</th>\n",
       "      <td>432hz</td>\n",
       "      <td>0.485515</td>\n",
       "      <td>0.312000</td>\n",
       "      <td>1.047430e+06</td>\n",
       "      <td>0.391678</td>\n",
       "      <td>0.477250</td>\n",
       "      <td>0.265940</td>\n",
       "      <td>-18.131267</td>\n",
       "      <td>0.071717</td>\n",
       "      <td>118.900933</td>\n",
       "      <td>0.236483</td>\n",
       "      <td>41.200000</td>\n",
       "      <td>11</td>\n",
       "      <td>1</td>\n",
       "    </tr>\n",
       "    <tr>\n",
       "      <th>2</th>\n",
       "      <td>8-bit</td>\n",
       "      <td>0.028900</td>\n",
       "      <td>0.673000</td>\n",
       "      <td>1.334540e+05</td>\n",
       "      <td>0.950000</td>\n",
       "      <td>0.630000</td>\n",
       "      <td>0.069000</td>\n",
       "      <td>-7.899000</td>\n",
       "      <td>0.292000</td>\n",
       "      <td>192.816000</td>\n",
       "      <td>0.997000</td>\n",
       "      <td>0.000000</td>\n",
       "      <td>5</td>\n",
       "      <td>1</td>\n",
       "    </tr>\n",
       "    <tr>\n",
       "      <th>3</th>\n",
       "      <td>[]</td>\n",
       "      <td>0.535793</td>\n",
       "      <td>0.546937</td>\n",
       "      <td>2.495312e+05</td>\n",
       "      <td>0.485430</td>\n",
       "      <td>0.278442</td>\n",
       "      <td>0.220970</td>\n",
       "      <td>-11.624754</td>\n",
       "      <td>0.101511</td>\n",
       "      <td>116.068980</td>\n",
       "      <td>0.486361</td>\n",
       "      <td>12.350770</td>\n",
       "      <td>7</td>\n",
       "      <td>1</td>\n",
       "    </tr>\n",
       "    <tr>\n",
       "      <th>4</th>\n",
       "      <td>a cappella</td>\n",
       "      <td>0.694276</td>\n",
       "      <td>0.516172</td>\n",
       "      <td>2.018391e+05</td>\n",
       "      <td>0.330533</td>\n",
       "      <td>0.036080</td>\n",
       "      <td>0.222983</td>\n",
       "      <td>-12.656547</td>\n",
       "      <td>0.083627</td>\n",
       "      <td>105.506031</td>\n",
       "      <td>0.454077</td>\n",
       "      <td>39.086248</td>\n",
       "      <td>7</td>\n",
       "      <td>1</td>\n",
       "    </tr>\n",
       "  </tbody>\n",
       "</table>\n",
       "</div>"
      ],
      "text/plain": [
       "                   genres  acousticness  danceability   duration_ms    energy  \\\n",
       "0  21st century classical      0.754600      0.284100  3.525932e+05  0.159580   \n",
       "1                   432hz      0.485515      0.312000  1.047430e+06  0.391678   \n",
       "2                   8-bit      0.028900      0.673000  1.334540e+05  0.950000   \n",
       "3                      []      0.535793      0.546937  2.495312e+05  0.485430   \n",
       "4              a cappella      0.694276      0.516172  2.018391e+05  0.330533   \n",
       "\n",
       "   instrumentalness  liveness   loudness  speechiness       tempo   valence  \\\n",
       "0          0.484374  0.168580 -22.153400     0.062060   91.351000  0.143380   \n",
       "1          0.477250  0.265940 -18.131267     0.071717  118.900933  0.236483   \n",
       "2          0.630000  0.069000  -7.899000     0.292000  192.816000  0.997000   \n",
       "3          0.278442  0.220970 -11.624754     0.101511  116.068980  0.486361   \n",
       "4          0.036080  0.222983 -12.656547     0.083627  105.506031  0.454077   \n",
       "\n",
       "   popularity  key  mode  \n",
       "0    6.600000    4     1  \n",
       "1   41.200000   11     1  \n",
       "2    0.000000    5     1  \n",
       "3   12.350770    7     1  \n",
       "4   39.086248    7     1  "
      ]
     },
     "execution_count": 7,
     "metadata": {},
     "output_type": "execute_result"
    }
   ],
   "source": [
    "# Loading the data\n",
    "file = '../uncleaned_data/data_by_genres.csv'\n",
    "df = pd.read_csv(file)\n",
    "df.head()"
   ]
  },
  {
   "cell_type": "code",
   "execution_count": 10,
   "metadata": {},
   "outputs": [
    {
     "data": {
      "text/plain": [
       "Index(['genres', 'acousticness', 'danceability', 'duration_ms', 'energy',\n",
       "       'instrumentalness', 'liveness', 'loudness', 'speechiness', 'tempo',\n",
       "       'valence', 'popularity', 'key', 'mode'],\n",
       "      dtype='object')"
      ]
     },
     "execution_count": 10,
     "metadata": {},
     "output_type": "execute_result"
    }
   ],
   "source": [
    "# Checking for columns to delete - We decided to keep them all.\n",
    "df.columns\n"
   ]
  },
  {
   "cell_type": "code",
   "execution_count": 11,
   "metadata": {},
   "outputs": [
    {
     "data": {
      "text/plain": [
       "genres              3232\n",
       "acousticness        3232\n",
       "danceability        3232\n",
       "duration_ms         3232\n",
       "energy              3232\n",
       "instrumentalness    3232\n",
       "liveness            3232\n",
       "loudness            3232\n",
       "speechiness         3232\n",
       "tempo               3232\n",
       "valence             3232\n",
       "popularity          3232\n",
       "key                 3232\n",
       "mode                3232\n",
       "dtype: int64"
      ]
     },
     "execution_count": 11,
     "metadata": {},
     "output_type": "execute_result"
    }
   ],
   "source": [
    "# Check to see if there are any nulls - Looks to be okay\n",
    "df.count()"
   ]
  },
  {
   "cell_type": "code",
   "execution_count": 15,
   "metadata": {},
   "outputs": [
    {
     "data": {
      "text/plain": [
       "genres              False\n",
       "acousticness        False\n",
       "danceability        False\n",
       "duration_ms         False\n",
       "energy              False\n",
       "instrumentalness    False\n",
       "liveness            False\n",
       "loudness            False\n",
       "speechiness         False\n",
       "tempo               False\n",
       "valence             False\n",
       "popularity          False\n",
       "key                 False\n",
       "mode                False\n",
       "dtype: bool"
      ]
     },
     "execution_count": 15,
     "metadata": {},
     "output_type": "execute_result"
    }
   ],
   "source": [
    "# Double checking to see if there are any NaNs\n",
    "df.isna().any()"
   ]
  },
  {
   "cell_type": "code",
   "execution_count": 16,
   "metadata": {},
   "outputs": [
    {
     "data": {
      "text/plain": [
       "genres               object\n",
       "acousticness        float64\n",
       "danceability        float64\n",
       "duration_ms         float64\n",
       "energy              float64\n",
       "instrumentalness    float64\n",
       "liveness            float64\n",
       "loudness            float64\n",
       "speechiness         float64\n",
       "tempo               float64\n",
       "valence             float64\n",
       "popularity          float64\n",
       "key                   int64\n",
       "mode                  int64\n",
       "dtype: object"
      ]
     },
     "execution_count": 16,
     "metadata": {},
     "output_type": "execute_result"
    }
   ],
   "source": [
    "# Checking the data types\n",
    "df.dtypes"
   ]
  },
  {
   "cell_type": "code",
   "execution_count": 20,
   "metadata": {},
   "outputs": [
    {
     "data": {
      "text/plain": [
       "genres              21st century classical\n",
       "acousticness                        0.7546\n",
       "danceability                        0.2841\n",
       "duration_ms                         352593\n",
       "energy                             0.15958\n",
       "instrumentalness                  0.484374\n",
       "liveness                           0.16858\n",
       "loudness                          -22.1534\n",
       "speechiness                        0.06206\n",
       "tempo                               91.351\n",
       "valence                            0.14338\n",
       "popularity                             6.6\n",
       "key                                      4\n",
       "mode                                     1\n",
       "Name: 0, dtype: object"
      ]
     },
     "execution_count": 20,
     "metadata": {},
     "output_type": "execute_result"
    }
   ],
   "source": [
    "# Taking a look at the a sample row to ensure the data types are correct. - Looks great!\n",
    "df.loc[0]"
   ]
  },
  {
   "cell_type": "code",
   "execution_count": 21,
   "metadata": {},
   "outputs": [
    {
     "name": "stdout",
     "output_type": "stream",
     "text": [
      "<class 'pandas.core.frame.DataFrame'>\n",
      "RangeIndex: 3232 entries, 0 to 3231\n",
      "Data columns (total 14 columns):\n",
      " #   Column            Non-Null Count  Dtype  \n",
      "---  ------            --------------  -----  \n",
      " 0   genres            3232 non-null   object \n",
      " 1   acousticness      3232 non-null   float64\n",
      " 2   danceability      3232 non-null   float64\n",
      " 3   duration_ms       3232 non-null   float64\n",
      " 4   energy            3232 non-null   float64\n",
      " 5   instrumentalness  3232 non-null   float64\n",
      " 6   liveness          3232 non-null   float64\n",
      " 7   loudness          3232 non-null   float64\n",
      " 8   speechiness       3232 non-null   float64\n",
      " 9   tempo             3232 non-null   float64\n",
      " 10  valence           3232 non-null   float64\n",
      " 11  popularity        3232 non-null   float64\n",
      " 12  key               3232 non-null   int64  \n",
      " 13  mode              3232 non-null   int64  \n",
      "dtypes: float64(11), int64(2), object(1)\n",
      "memory usage: 353.6+ KB\n"
     ]
    }
   ],
   "source": [
    "# Snapshot of the object\n",
    "df.info()"
   ]
  },
  {
   "cell_type": "code",
   "execution_count": 22,
   "metadata": {},
   "outputs": [
    {
     "data": {
      "text/plain": [
       "3232"
      ]
     },
     "execution_count": 22,
     "metadata": {},
     "output_type": "execute_result"
    }
   ],
   "source": [
    "# Snapshot of the len of the object\n",
    "len(df)"
   ]
  },
  {
   "cell_type": "code",
   "execution_count": 25,
   "metadata": {},
   "outputs": [],
   "source": [
    "# Exporting file as a csv without index but with the header\n",
    "df.to_csv(\"../cleaned_data/cleaned_data_by_genres.csv\", index=False, header=True)"
   ]
  }
 ],
 "metadata": {
  "kernelspec": {
   "display_name": "Python [conda env:PythonData] *",
   "language": "python",
   "name": "conda-env-PythonData-py"
  },
  "language_info": {
   "codemirror_mode": {
    "name": "ipython",
    "version": 3
   },
   "file_extension": ".py",
   "mimetype": "text/x-python",
   "name": "python",
   "nbconvert_exporter": "python",
   "pygments_lexer": "ipython3",
   "version": "3.6.10"
  }
 },
 "nbformat": 4,
 "nbformat_minor": 4
}
