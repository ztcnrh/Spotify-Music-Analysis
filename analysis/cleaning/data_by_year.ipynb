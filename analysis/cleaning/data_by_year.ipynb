{
 "cells": [
  {
   "cell_type": "markdown",
   "metadata": {},
   "source": [
    "# Data Cleaning with Pandas and Numpy"
   ]
  },
  {
   "cell_type": "code",
   "execution_count": 1,
   "metadata": {},
   "outputs": [],
   "source": [
    "# Dependecies\n",
    "import pandas as pd\n",
    "import numpy as np"
   ]
  },
  {
   "cell_type": "code",
   "execution_count": 4,
   "metadata": {},
   "outputs": [
    {
     "data": {
      "text/html": [
       "<div>\n",
       "<style scoped>\n",
       "    .dataframe tbody tr th:only-of-type {\n",
       "        vertical-align: middle;\n",
       "    }\n",
       "\n",
       "    .dataframe tbody tr th {\n",
       "        vertical-align: top;\n",
       "    }\n",
       "\n",
       "    .dataframe thead th {\n",
       "        text-align: right;\n",
       "    }\n",
       "</style>\n",
       "<table border=\"1\" class=\"dataframe\">\n",
       "  <thead>\n",
       "    <tr style=\"text-align: right;\">\n",
       "      <th></th>\n",
       "      <th>year</th>\n",
       "      <th>acousticness</th>\n",
       "      <th>danceability</th>\n",
       "      <th>duration_ms</th>\n",
       "      <th>energy</th>\n",
       "      <th>instrumentalness</th>\n",
       "      <th>liveness</th>\n",
       "      <th>loudness</th>\n",
       "      <th>speechiness</th>\n",
       "      <th>tempo</th>\n",
       "      <th>valence</th>\n",
       "      <th>popularity</th>\n",
       "      <th>key</th>\n",
       "      <th>mode</th>\n",
       "    </tr>\n",
       "  </thead>\n",
       "  <tbody>\n",
       "    <tr>\n",
       "      <th>0</th>\n",
       "      <td>1920</td>\n",
       "      <td>0.631242</td>\n",
       "      <td>0.515750</td>\n",
       "      <td>238092.997135</td>\n",
       "      <td>0.418700</td>\n",
       "      <td>0.354219</td>\n",
       "      <td>0.216049</td>\n",
       "      <td>-12.654020</td>\n",
       "      <td>0.082984</td>\n",
       "      <td>113.226900</td>\n",
       "      <td>0.498210</td>\n",
       "      <td>0.610315</td>\n",
       "      <td>2</td>\n",
       "      <td>1</td>\n",
       "    </tr>\n",
       "    <tr>\n",
       "      <th>1</th>\n",
       "      <td>1921</td>\n",
       "      <td>0.862105</td>\n",
       "      <td>0.432171</td>\n",
       "      <td>257891.762821</td>\n",
       "      <td>0.241136</td>\n",
       "      <td>0.337158</td>\n",
       "      <td>0.205219</td>\n",
       "      <td>-16.811660</td>\n",
       "      <td>0.078952</td>\n",
       "      <td>102.425397</td>\n",
       "      <td>0.378276</td>\n",
       "      <td>0.391026</td>\n",
       "      <td>2</td>\n",
       "      <td>1</td>\n",
       "    </tr>\n",
       "    <tr>\n",
       "      <th>2</th>\n",
       "      <td>1922</td>\n",
       "      <td>0.828934</td>\n",
       "      <td>0.575620</td>\n",
       "      <td>140135.140496</td>\n",
       "      <td>0.226173</td>\n",
       "      <td>0.254776</td>\n",
       "      <td>0.256662</td>\n",
       "      <td>-20.840083</td>\n",
       "      <td>0.464368</td>\n",
       "      <td>100.033149</td>\n",
       "      <td>0.571190</td>\n",
       "      <td>0.090909</td>\n",
       "      <td>5</td>\n",
       "      <td>1</td>\n",
       "    </tr>\n",
       "    <tr>\n",
       "      <th>3</th>\n",
       "      <td>1923</td>\n",
       "      <td>0.957247</td>\n",
       "      <td>0.577341</td>\n",
       "      <td>177942.362162</td>\n",
       "      <td>0.262406</td>\n",
       "      <td>0.371733</td>\n",
       "      <td>0.227462</td>\n",
       "      <td>-14.129211</td>\n",
       "      <td>0.093949</td>\n",
       "      <td>114.010730</td>\n",
       "      <td>0.625492</td>\n",
       "      <td>5.205405</td>\n",
       "      <td>0</td>\n",
       "      <td>1</td>\n",
       "    </tr>\n",
       "    <tr>\n",
       "      <th>4</th>\n",
       "      <td>1924</td>\n",
       "      <td>0.940200</td>\n",
       "      <td>0.549894</td>\n",
       "      <td>191046.707627</td>\n",
       "      <td>0.344347</td>\n",
       "      <td>0.581701</td>\n",
       "      <td>0.235219</td>\n",
       "      <td>-14.231343</td>\n",
       "      <td>0.092089</td>\n",
       "      <td>120.689572</td>\n",
       "      <td>0.663725</td>\n",
       "      <td>0.661017</td>\n",
       "      <td>10</td>\n",
       "      <td>1</td>\n",
       "    </tr>\n",
       "  </tbody>\n",
       "</table>\n",
       "</div>"
      ],
      "text/plain": [
       "   year  acousticness  danceability    duration_ms    energy  \\\n",
       "0  1920      0.631242      0.515750  238092.997135  0.418700   \n",
       "1  1921      0.862105      0.432171  257891.762821  0.241136   \n",
       "2  1922      0.828934      0.575620  140135.140496  0.226173   \n",
       "3  1923      0.957247      0.577341  177942.362162  0.262406   \n",
       "4  1924      0.940200      0.549894  191046.707627  0.344347   \n",
       "\n",
       "   instrumentalness  liveness   loudness  speechiness       tempo   valence  \\\n",
       "0          0.354219  0.216049 -12.654020     0.082984  113.226900  0.498210   \n",
       "1          0.337158  0.205219 -16.811660     0.078952  102.425397  0.378276   \n",
       "2          0.254776  0.256662 -20.840083     0.464368  100.033149  0.571190   \n",
       "3          0.371733  0.227462 -14.129211     0.093949  114.010730  0.625492   \n",
       "4          0.581701  0.235219 -14.231343     0.092089  120.689572  0.663725   \n",
       "\n",
       "   popularity  key  mode  \n",
       "0    0.610315    2     1  \n",
       "1    0.391026    2     1  \n",
       "2    0.090909    5     1  \n",
       "3    5.205405    0     1  \n",
       "4    0.661017   10     1  "
      ]
     },
     "execution_count": 4,
     "metadata": {},
     "output_type": "execute_result"
    }
   ],
   "source": [
    "# Loading the data\n",
    "file = '../uncleaned_data/data_by_year.csv'\n",
    "df = pd.read_csv(file)\n",
    "df.head()"
   ]
  },
  {
   "cell_type": "code",
   "execution_count": 5,
   "metadata": {},
   "outputs": [
    {
     "data": {
      "text/plain": [
       "Index(['year', 'acousticness', 'danceability', 'duration_ms', 'energy',\n",
       "       'instrumentalness', 'liveness', 'loudness', 'speechiness', 'tempo',\n",
       "       'valence', 'popularity', 'key', 'mode'],\n",
       "      dtype='object')"
      ]
     },
     "execution_count": 5,
     "metadata": {},
     "output_type": "execute_result"
    }
   ],
   "source": [
    "# Checking for columns to delete - We decided to keep them all.\n",
    "df.columns"
   ]
  },
  {
   "cell_type": "code",
   "execution_count": 6,
   "metadata": {},
   "outputs": [
    {
     "data": {
      "text/plain": [
       "year                False\n",
       "acousticness        False\n",
       "danceability        False\n",
       "duration_ms         False\n",
       "energy              False\n",
       "instrumentalness    False\n",
       "liveness            False\n",
       "loudness            False\n",
       "speechiness         False\n",
       "tempo               False\n",
       "valence             False\n",
       "popularity          False\n",
       "key                 False\n",
       "mode                False\n",
       "dtype: bool"
      ]
     },
     "execution_count": 6,
     "metadata": {},
     "output_type": "execute_result"
    }
   ],
   "source": [
    "# Double checking to see if there are any NaNs\n",
    "df.isna().any()"
   ]
  },
  {
   "cell_type": "code",
   "execution_count": 7,
   "metadata": {},
   "outputs": [
    {
     "data": {
      "text/plain": [
       "year                  int64\n",
       "acousticness        float64\n",
       "danceability        float64\n",
       "duration_ms         float64\n",
       "energy              float64\n",
       "instrumentalness    float64\n",
       "liveness            float64\n",
       "loudness            float64\n",
       "speechiness         float64\n",
       "tempo               float64\n",
       "valence             float64\n",
       "popularity          float64\n",
       "key                   int64\n",
       "mode                  int64\n",
       "dtype: object"
      ]
     },
     "execution_count": 7,
     "metadata": {},
     "output_type": "execute_result"
    }
   ],
   "source": [
    "# Checking the data types\n",
    "df.dtypes"
   ]
  },
  {
   "cell_type": "code",
   "execution_count": 8,
   "metadata": {},
   "outputs": [
    {
     "data": {
      "text/plain": [
       "year                  1920.000000\n",
       "acousticness             0.631242\n",
       "danceability             0.515750\n",
       "duration_ms         238092.997135\n",
       "energy                   0.418700\n",
       "instrumentalness         0.354219\n",
       "liveness                 0.216049\n",
       "loudness               -12.654020\n",
       "speechiness              0.082984\n",
       "tempo                  113.226900\n",
       "valence                  0.498210\n",
       "popularity               0.610315\n",
       "key                      2.000000\n",
       "mode                     1.000000\n",
       "Name: 0, dtype: float64"
      ]
     },
     "execution_count": 8,
     "metadata": {},
     "output_type": "execute_result"
    }
   ],
   "source": [
    "# Taking a look at the a sample row to ensure the data types are correct. - Looks great!\n",
    "df.loc[0]"
   ]
  },
  {
   "cell_type": "code",
   "execution_count": 9,
   "metadata": {},
   "outputs": [
    {
     "name": "stdout",
     "output_type": "stream",
     "text": [
      "<class 'pandas.core.frame.DataFrame'>\n",
      "RangeIndex: 102 entries, 0 to 101\n",
      "Data columns (total 14 columns):\n",
      " #   Column            Non-Null Count  Dtype  \n",
      "---  ------            --------------  -----  \n",
      " 0   year              102 non-null    int64  \n",
      " 1   acousticness      102 non-null    float64\n",
      " 2   danceability      102 non-null    float64\n",
      " 3   duration_ms       102 non-null    float64\n",
      " 4   energy            102 non-null    float64\n",
      " 5   instrumentalness  102 non-null    float64\n",
      " 6   liveness          102 non-null    float64\n",
      " 7   loudness          102 non-null    float64\n",
      " 8   speechiness       102 non-null    float64\n",
      " 9   tempo             102 non-null    float64\n",
      " 10  valence           102 non-null    float64\n",
      " 11  popularity        102 non-null    float64\n",
      " 12  key               102 non-null    int64  \n",
      " 13  mode              102 non-null    int64  \n",
      "dtypes: float64(11), int64(3)\n",
      "memory usage: 11.3 KB\n"
     ]
    }
   ],
   "source": [
    "# Snapshot of the object\n",
    "df.info()"
   ]
  },
  {
   "cell_type": "code",
   "execution_count": 10,
   "metadata": {},
   "outputs": [
    {
     "data": {
      "text/plain": [
       "102"
      ]
     },
     "execution_count": 10,
     "metadata": {},
     "output_type": "execute_result"
    }
   ],
   "source": [
    "# Snapshot of the len of the object\n",
    "len(df)"
   ]
  },
  {
   "cell_type": "code",
   "execution_count": 11,
   "metadata": {},
   "outputs": [],
   "source": [
    "# Exporting file as a csv without index but with the header\n",
    "df.to_csv(\"../cleaned_data/cleaned_data_by_year.csv\", index=False, header=True)"
   ]
  }
 ],
 "metadata": {
  "kernelspec": {
   "display_name": "Python [conda env:PythonData] *",
   "language": "python",
   "name": "conda-env-PythonData-py"
  },
  "language_info": {
   "codemirror_mode": {
    "name": "ipython",
    "version": 3
   },
   "file_extension": ".py",
   "mimetype": "text/x-python",
   "name": "python",
   "nbconvert_exporter": "python",
   "pygments_lexer": "ipython3",
   "version": "3.6.10"
  }
 },
 "nbformat": 4,
 "nbformat_minor": 4
}
